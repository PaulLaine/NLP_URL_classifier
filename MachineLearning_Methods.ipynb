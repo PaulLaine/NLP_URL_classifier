{
 "cells": [
  {
   "cell_type": "code",
   "execution_count": 1,
   "source": [
    "import pandas as pd # use for data manipulation and analysis\r\n",
    "import numpy as np # use for multi-dimensional array and matrix\r\n",
    "\r\n",
    "import seaborn as sns # use for high-level interface for drawing attractive and informative statistical graphics \r\n",
    "import matplotlib.pyplot as plt # It provides an object-oriented API for embedding plots into applications\r\n",
    "%matplotlib inline \r\n",
    "# It sets the backend of matplotlib to the 'inline' backend:\r\n",
    "import plotly.express as px\r\n",
    "import time # calculate time \r\n",
    "\r\n",
    "from sklearn.linear_model import LogisticRegression # algo use to predict good or bad\r\n",
    "from sklearn.naive_bayes import MultinomialNB # nlp algo use to predict good or bad\r\n",
    "from sklearn.svm import SVC \r\n",
    "\r\n",
    "from sklearn.model_selection import train_test_split # spliting the data between feature and target\r\n",
    "from sklearn.metrics import classification_report # gives whole report about metrics (e.g, recall,precision,f1_score,c_m)\r\n",
    "from sklearn.metrics import confusion_matrix # gives info about actual and predict\r\n",
    "from nltk.tokenize import RegexpTokenizer # regexp tokenizers use to split words from text  \r\n",
    "from nltk.stem.snowball import SnowballStemmer # stemmes words\r\n",
    "from sklearn.feature_extraction.text import CountVectorizer # create sparse matrix of words using regexptokenizes  \r\n",
    "from sklearn.pipeline import make_pipeline # use for combining all prerocessors techniuqes and algos\r\n",
    "\r\n",
    "import warnings # ignores pink warnings \r\n",
    "warnings.filterwarnings('ignore')"
   ],
   "outputs": [],
   "metadata": {}
  },
  {
   "cell_type": "code",
   "execution_count": 2,
   "source": [
    "data = pd.read_csv('urls.csv')\r\n",
    "data.head()"
   ],
   "outputs": [
    {
     "output_type": "execute_result",
     "data": {
      "text/html": [
       "<div>\n",
       "<style scoped>\n",
       "    .dataframe tbody tr th:only-of-type {\n",
       "        vertical-align: middle;\n",
       "    }\n",
       "\n",
       "    .dataframe tbody tr th {\n",
       "        vertical-align: top;\n",
       "    }\n",
       "\n",
       "    .dataframe thead th {\n",
       "        text-align: right;\n",
       "    }\n",
       "</style>\n",
       "<table border=\"1\" class=\"dataframe\">\n",
       "  <thead>\n",
       "    <tr style=\"text-align: right;\">\n",
       "      <th></th>\n",
       "      <th>URL</th>\n",
       "      <th>Label</th>\n",
       "    </tr>\n",
       "  </thead>\n",
       "  <tbody>\n",
       "    <tr>\n",
       "      <th>0</th>\n",
       "      <td>nobell.it/70ffb52d079109dca5664cce6f317373782/...</td>\n",
       "      <td>bad</td>\n",
       "    </tr>\n",
       "    <tr>\n",
       "      <th>1</th>\n",
       "      <td>www.dghjdgf.com/paypal.co.uk/cycgi-bin/webscrc...</td>\n",
       "      <td>bad</td>\n",
       "    </tr>\n",
       "    <tr>\n",
       "      <th>2</th>\n",
       "      <td>serviciosbys.com/paypal.cgi.bin.get-into.herf....</td>\n",
       "      <td>bad</td>\n",
       "    </tr>\n",
       "    <tr>\n",
       "      <th>3</th>\n",
       "      <td>mail.printakid.com/www.online.americanexpress....</td>\n",
       "      <td>bad</td>\n",
       "    </tr>\n",
       "    <tr>\n",
       "      <th>4</th>\n",
       "      <td>thewhiskeydregs.com/wp-content/themes/widescre...</td>\n",
       "      <td>bad</td>\n",
       "    </tr>\n",
       "  </tbody>\n",
       "</table>\n",
       "</div>"
      ],
      "text/plain": [
       "                                                 URL Label\n",
       "0  nobell.it/70ffb52d079109dca5664cce6f317373782/...   bad\n",
       "1  www.dghjdgf.com/paypal.co.uk/cycgi-bin/webscrc...   bad\n",
       "2  serviciosbys.com/paypal.cgi.bin.get-into.herf....   bad\n",
       "3  mail.printakid.com/www.online.americanexpress....   bad\n",
       "4  thewhiskeydregs.com/wp-content/themes/widescre...   bad"
      ]
     },
     "metadata": {},
     "execution_count": 2
    }
   ],
   "metadata": {}
  },
  {
   "cell_type": "code",
   "execution_count": 3,
   "source": [
    "data.info()"
   ],
   "outputs": [
    {
     "output_type": "stream",
     "name": "stdout",
     "text": [
      "<class 'pandas.core.frame.DataFrame'>\n",
      "RangeIndex: 549346 entries, 0 to 549345\n",
      "Data columns (total 2 columns):\n",
      " #   Column  Non-Null Count   Dtype \n",
      "---  ------  --------------   ----- \n",
      " 0   URL     549346 non-null  object\n",
      " 1   Label   549346 non-null  object\n",
      "dtypes: object(2)\n",
      "memory usage: 8.4+ MB\n"
     ]
    }
   ],
   "metadata": {}
  },
  {
   "cell_type": "code",
   "execution_count": 5,
   "source": [
    "def balance_datas():\r\n",
    "    frames = []\r\n",
    "    for category in data[\"Label\"].unique():\r\n",
    "        df_test = data[data[\"Label\"] == category].sample(20000)\r\n",
    "        frames.append(df_test)\r\n",
    "    x = pd.concat(frames)\r\n",
    "    return x\r\n",
    "\r\n",
    "data = balance_datas()"
   ],
   "outputs": [],
   "metadata": {}
  },
  {
   "cell_type": "code",
   "execution_count": 8,
   "source": [
    "data[\"Label\"].value_counts()"
   ],
   "outputs": [
    {
     "output_type": "execute_result",
     "data": {
      "text/plain": [
       "bad     20000\n",
       "good    20000\n",
       "Name: Label, dtype: int64"
      ]
     },
     "metadata": {},
     "execution_count": 8
    }
   ],
   "metadata": {}
  },
  {
   "cell_type": "code",
   "execution_count": 9,
   "source": [
    "tokenizer = RegexpTokenizer(r'[A-Za-z]+')#to getting alpha only"
   ],
   "outputs": [],
   "metadata": {}
  },
  {
   "cell_type": "code",
   "execution_count": 10,
   "source": [
    "data.URL[0]"
   ],
   "outputs": [
    {
     "output_type": "execute_result",
     "data": {
      "text/plain": [
       "'nobell.it/70ffb52d079109dca5664cce6f317373782/login.SkyPe.com/en/cgi-bin/verification/login/70ffb52d079109dca5664cce6f317373/index.php?cmd=_profile-ach&outdated_page_tmpl=p/gen/failed-to-load&nav=0.5.1&login_access=1322408526'"
      ]
     },
     "metadata": {},
     "execution_count": 10
    }
   ],
   "metadata": {}
  },
  {
   "cell_type": "code",
   "execution_count": 11,
   "source": [
    "tokenizer.tokenize(data.URL[0]) # using first row"
   ],
   "outputs": [
    {
     "output_type": "execute_result",
     "data": {
      "text/plain": [
       "['nobell',\n",
       " 'it',\n",
       " 'ffb',\n",
       " 'd',\n",
       " 'dca',\n",
       " 'cce',\n",
       " 'f',\n",
       " 'login',\n",
       " 'SkyPe',\n",
       " 'com',\n",
       " 'en',\n",
       " 'cgi',\n",
       " 'bin',\n",
       " 'verification',\n",
       " 'login',\n",
       " 'ffb',\n",
       " 'd',\n",
       " 'dca',\n",
       " 'cce',\n",
       " 'f',\n",
       " 'index',\n",
       " 'php',\n",
       " 'cmd',\n",
       " 'profile',\n",
       " 'ach',\n",
       " 'outdated',\n",
       " 'page',\n",
       " 'tmpl',\n",
       " 'p',\n",
       " 'gen',\n",
       " 'failed',\n",
       " 'to',\n",
       " 'load',\n",
       " 'nav',\n",
       " 'login',\n",
       " 'access']"
      ]
     },
     "metadata": {},
     "execution_count": 11
    }
   ],
   "metadata": {}
  },
  {
   "cell_type": "code",
   "execution_count": 12,
   "source": [
    "data['text_tokenized'] = data.URL.map(lambda t: tokenizer.tokenize(t))"
   ],
   "outputs": [],
   "metadata": {}
  },
  {
   "cell_type": "code",
   "execution_count": 13,
   "source": [
    "data.sample(5)"
   ],
   "outputs": [
    {
     "output_type": "execute_result",
     "data": {
      "text/html": [
       "<div>\n",
       "<style scoped>\n",
       "    .dataframe tbody tr th:only-of-type {\n",
       "        vertical-align: middle;\n",
       "    }\n",
       "\n",
       "    .dataframe tbody tr th {\n",
       "        vertical-align: top;\n",
       "    }\n",
       "\n",
       "    .dataframe thead th {\n",
       "        text-align: right;\n",
       "    }\n",
       "</style>\n",
       "<table border=\"1\" class=\"dataframe\">\n",
       "  <thead>\n",
       "    <tr style=\"text-align: right;\">\n",
       "      <th></th>\n",
       "      <th>URL</th>\n",
       "      <th>Label</th>\n",
       "      <th>text_tokenized</th>\n",
       "    </tr>\n",
       "  </thead>\n",
       "  <tbody>\n",
       "    <tr>\n",
       "      <th>348019</th>\n",
       "      <td>greaterglendaleproperties.net/Schools/CA/Burba...</td>\n",
       "      <td>good</td>\n",
       "      <td>[greaterglendaleproperties, net, Schools, CA, ...</td>\n",
       "    </tr>\n",
       "    <tr>\n",
       "      <th>366058</th>\n",
       "      <td>john-meekings.co.uk/cpatton.html</td>\n",
       "      <td>good</td>\n",
       "      <td>[john, meekings, co, uk, cpatton, html]</td>\n",
       "    </tr>\n",
       "    <tr>\n",
       "      <th>33480</th>\n",
       "      <td>www.lineasun63.com/plugins/editors/tinymce/sit...</td>\n",
       "      <td>bad</td>\n",
       "      <td>[www, lineasun, com, plugins, editors, tinymce...</td>\n",
       "    </tr>\n",
       "    <tr>\n",
       "      <th>358628</th>\n",
       "      <td>imdb.com/name/nm0460477/</td>\n",
       "      <td>good</td>\n",
       "      <td>[imdb, com, name, nm]</td>\n",
       "    </tr>\n",
       "    <tr>\n",
       "      <th>279198</th>\n",
       "      <td>andybrain.com/2006/vex-robotics-kit-design-sys...</td>\n",
       "      <td>good</td>\n",
       "      <td>[andybrain, com, vex, robotics, kit, design, s...</td>\n",
       "    </tr>\n",
       "  </tbody>\n",
       "</table>\n",
       "</div>"
      ],
      "text/plain": [
       "                                                      URL Label  \\\n",
       "348019  greaterglendaleproperties.net/Schools/CA/Burba...  good   \n",
       "366058                   john-meekings.co.uk/cpatton.html  good   \n",
       "33480   www.lineasun63.com/plugins/editors/tinymce/sit...   bad   \n",
       "358628                           imdb.com/name/nm0460477/  good   \n",
       "279198  andybrain.com/2006/vex-robotics-kit-design-sys...  good   \n",
       "\n",
       "                                           text_tokenized  \n",
       "348019  [greaterglendaleproperties, net, Schools, CA, ...  \n",
       "366058            [john, meekings, co, uk, cpatton, html]  \n",
       "33480   [www, lineasun, com, plugins, editors, tinymce...  \n",
       "358628                              [imdb, com, name, nm]  \n",
       "279198  [andybrain, com, vex, robotics, kit, design, s...  "
      ]
     },
     "metadata": {},
     "execution_count": 13
    }
   ],
   "metadata": {}
  },
  {
   "cell_type": "code",
   "execution_count": 14,
   "source": [
    "stemmer = SnowballStemmer(\"english\") # choose a language"
   ],
   "outputs": [],
   "metadata": {}
  },
  {
   "cell_type": "code",
   "execution_count": 15,
   "source": [
    "data['text_stemmed'] = data['text_tokenized'].map(lambda l: [stemmer.stem(word) for word in l])"
   ],
   "outputs": [],
   "metadata": {}
  },
  {
   "cell_type": "code",
   "execution_count": 16,
   "source": [
    "data.sample(5)"
   ],
   "outputs": [
    {
     "output_type": "execute_result",
     "data": {
      "text/html": [
       "<div>\n",
       "<style scoped>\n",
       "    .dataframe tbody tr th:only-of-type {\n",
       "        vertical-align: middle;\n",
       "    }\n",
       "\n",
       "    .dataframe tbody tr th {\n",
       "        vertical-align: top;\n",
       "    }\n",
       "\n",
       "    .dataframe thead th {\n",
       "        text-align: right;\n",
       "    }\n",
       "</style>\n",
       "<table border=\"1\" class=\"dataframe\">\n",
       "  <thead>\n",
       "    <tr style=\"text-align: right;\">\n",
       "      <th></th>\n",
       "      <th>URL</th>\n",
       "      <th>Label</th>\n",
       "      <th>text_tokenized</th>\n",
       "      <th>text_stemmed</th>\n",
       "    </tr>\n",
       "  </thead>\n",
       "  <tbody>\n",
       "    <tr>\n",
       "      <th>267952</th>\n",
       "      <td>absoluteastronomy.com/topics/List_of_Canadian_...</td>\n",
       "      <td>good</td>\n",
       "      <td>[absoluteastronomy, com, topics, List, of, Can...</td>\n",
       "      <td>[absoluteastronomi, com, topic, list, of, cana...</td>\n",
       "    </tr>\n",
       "    <tr>\n",
       "      <th>130857</th>\n",
       "      <td>fexton.com/components/com_config/GOOGLE_FILE_M...</td>\n",
       "      <td>bad</td>\n",
       "      <td>[fexton, com, components, com, config, GOOGLE,...</td>\n",
       "      <td>[fexton, com, compon, com, config, googl, file...</td>\n",
       "    </tr>\n",
       "    <tr>\n",
       "      <th>106305</th>\n",
       "      <td>kt-marketing.com/wp-admin/network/admin/docsig...</td>\n",
       "      <td>bad</td>\n",
       "      <td>[kt, marketing, com, wp, admin, network, admin...</td>\n",
       "      <td>[kt, market, com, wp, admin, network, admin, d...</td>\n",
       "    </tr>\n",
       "    <tr>\n",
       "      <th>254968</th>\n",
       "      <td>video.barnesandnoble.com/DVD/The-Trouble-with-...</td>\n",
       "      <td>good</td>\n",
       "      <td>[video, barnesandnoble, com, DVD, The, Trouble...</td>\n",
       "      <td>[video, barnesandnobl, com, dvd, the, troubl, ...</td>\n",
       "    </tr>\n",
       "    <tr>\n",
       "      <th>125612</th>\n",
       "      <td>bjcurio.com/js/index.htm?http://us.battle.net/...</td>\n",
       "      <td>bad</td>\n",
       "      <td>[bjcurio, com, js, index, htm, http, us, battl...</td>\n",
       "      <td>[bjcurio, com, js, index, htm, http, us, battl...</td>\n",
       "    </tr>\n",
       "  </tbody>\n",
       "</table>\n",
       "</div>"
      ],
      "text/plain": [
       "                                                      URL Label  \\\n",
       "267952  absoluteastronomy.com/topics/List_of_Canadian_...  good   \n",
       "130857  fexton.com/components/com_config/GOOGLE_FILE_M...   bad   \n",
       "106305  kt-marketing.com/wp-admin/network/admin/docsig...   bad   \n",
       "254968  video.barnesandnoble.com/DVD/The-Trouble-with-...  good   \n",
       "125612  bjcurio.com/js/index.htm?http://us.battle.net/...   bad   \n",
       "\n",
       "                                           text_tokenized  \\\n",
       "267952  [absoluteastronomy, com, topics, List, of, Can...   \n",
       "130857  [fexton, com, components, com, config, GOOGLE,...   \n",
       "106305  [kt, marketing, com, wp, admin, network, admin...   \n",
       "254968  [video, barnesandnoble, com, DVD, The, Trouble...   \n",
       "125612  [bjcurio, com, js, index, htm, http, us, battl...   \n",
       "\n",
       "                                             text_stemmed  \n",
       "267952  [absoluteastronomi, com, topic, list, of, cana...  \n",
       "130857  [fexton, com, compon, com, config, googl, file...  \n",
       "106305  [kt, market, com, wp, admin, network, admin, d...  \n",
       "254968  [video, barnesandnobl, com, dvd, the, troubl, ...  \n",
       "125612  [bjcurio, com, js, index, htm, http, us, battl...  "
      ]
     },
     "metadata": {},
     "execution_count": 16
    }
   ],
   "metadata": {}
  },
  {
   "cell_type": "code",
   "execution_count": 17,
   "source": [
    "data['text_sent'] = data['text_stemmed'].map(lambda l: ' '.join(l))"
   ],
   "outputs": [],
   "metadata": {}
  },
  {
   "cell_type": "code",
   "execution_count": 18,
   "source": [
    "data.sample(5)"
   ],
   "outputs": [
    {
     "output_type": "execute_result",
     "data": {
      "text/html": [
       "<div>\n",
       "<style scoped>\n",
       "    .dataframe tbody tr th:only-of-type {\n",
       "        vertical-align: middle;\n",
       "    }\n",
       "\n",
       "    .dataframe tbody tr th {\n",
       "        vertical-align: top;\n",
       "    }\n",
       "\n",
       "    .dataframe thead th {\n",
       "        text-align: right;\n",
       "    }\n",
       "</style>\n",
       "<table border=\"1\" class=\"dataframe\">\n",
       "  <thead>\n",
       "    <tr style=\"text-align: right;\">\n",
       "      <th></th>\n",
       "      <th>URL</th>\n",
       "      <th>Label</th>\n",
       "      <th>text_tokenized</th>\n",
       "      <th>text_stemmed</th>\n",
       "      <th>text_sent</th>\n",
       "    </tr>\n",
       "  </thead>\n",
       "  <tbody>\n",
       "    <tr>\n",
       "      <th>215101</th>\n",
       "      <td>montrealrentalapartments.com/</td>\n",
       "      <td>good</td>\n",
       "      <td>[montrealrentalapartments, com]</td>\n",
       "      <td>[montrealrentalapart, com]</td>\n",
       "      <td>montrealrentalapart com</td>\n",
       "    </tr>\n",
       "    <tr>\n",
       "      <th>448926</th>\n",
       "      <td>topuniversities.com/institution/university-nor...</td>\n",
       "      <td>good</td>\n",
       "      <td>[topuniversities, com, institution, university...</td>\n",
       "      <td>[topunivers, com, institut, univers, north, ca...</td>\n",
       "      <td>topunivers com institut univers north carolina...</td>\n",
       "    </tr>\n",
       "    <tr>\n",
       "      <th>105685</th>\n",
       "      <td>bonbonban.co.id/klm/GD</td>\n",
       "      <td>bad</td>\n",
       "      <td>[bonbonban, co, id, klm, GD]</td>\n",
       "      <td>[bonbonban, co, id, klm, gd]</td>\n",
       "      <td>bonbonban co id klm gd</td>\n",
       "    </tr>\n",
       "    <tr>\n",
       "      <th>44018</th>\n",
       "      <td>eeb.org.br/wp-inc/login_verify2_home26livecom_...</td>\n",
       "      <td>bad</td>\n",
       "      <td>[eeb, org, br, wp, inc, login, verify, home, l...</td>\n",
       "      <td>[eeb, org, br, wp, inc, login, verifi, home, l...</td>\n",
       "      <td>eeb org br wp inc login verifi home livecom ma...</td>\n",
       "    </tr>\n",
       "    <tr>\n",
       "      <th>99680</th>\n",
       "      <td>pricemistake.com/wp-content/themes/slimwriter/...</td>\n",
       "      <td>bad</td>\n",
       "      <td>[pricemistake, com, wp, content, themes, slimw...</td>\n",
       "      <td>[pricemistak, com, wp, content, theme, slimwri...</td>\n",
       "      <td>pricemistak com wp content theme slimwrit sing...</td>\n",
       "    </tr>\n",
       "  </tbody>\n",
       "</table>\n",
       "</div>"
      ],
      "text/plain": [
       "                                                      URL Label  \\\n",
       "215101                      montrealrentalapartments.com/  good   \n",
       "448926  topuniversities.com/institution/university-nor...  good   \n",
       "105685                             bonbonban.co.id/klm/GD   bad   \n",
       "44018   eeb.org.br/wp-inc/login_verify2_home26livecom_...   bad   \n",
       "99680   pricemistake.com/wp-content/themes/slimwriter/...   bad   \n",
       "\n",
       "                                           text_tokenized  \\\n",
       "215101                    [montrealrentalapartments, com]   \n",
       "448926  [topuniversities, com, institution, university...   \n",
       "105685                       [bonbonban, co, id, klm, GD]   \n",
       "44018   [eeb, org, br, wp, inc, login, verify, home, l...   \n",
       "99680   [pricemistake, com, wp, content, themes, slimw...   \n",
       "\n",
       "                                             text_stemmed  \\\n",
       "215101                         [montrealrentalapart, com]   \n",
       "448926  [topunivers, com, institut, univers, north, ca...   \n",
       "105685                       [bonbonban, co, id, klm, gd]   \n",
       "44018   [eeb, org, br, wp, inc, login, verifi, home, l...   \n",
       "99680   [pricemistak, com, wp, content, theme, slimwri...   \n",
       "\n",
       "                                                text_sent  \n",
       "215101                            montrealrentalapart com  \n",
       "448926  topunivers com institut univers north carolina...  \n",
       "105685                             bonbonban co id klm gd  \n",
       "44018   eeb org br wp inc login verifi home livecom ma...  \n",
       "99680   pricemistak com wp content theme slimwrit sing...  "
      ]
     },
     "metadata": {},
     "execution_count": 18
    }
   ],
   "metadata": {}
  },
  {
   "cell_type": "code",
   "execution_count": 19,
   "source": [
    "#sliceing classes\r\n",
    "bad_sites = data[data.Label == 'bad']\r\n",
    "good_sites = data[data.Label == 'good']"
   ],
   "outputs": [],
   "metadata": {}
  },
  {
   "cell_type": "code",
   "execution_count": 20,
   "source": [
    "#create cv object\r\n",
    "cv = CountVectorizer()"
   ],
   "outputs": [],
   "metadata": {}
  },
  {
   "cell_type": "code",
   "execution_count": 21,
   "source": [
    "feature = cv.fit_transform(data.text_sent) #transform all text which we tokenize and stemed"
   ],
   "outputs": [],
   "metadata": {}
  },
  {
   "cell_type": "code",
   "execution_count": 22,
   "source": [
    "feature[:5].toarray() # convert sparse matrix into array to print transformed features"
   ],
   "outputs": [
    {
     "output_type": "execute_result",
     "data": {
      "text/plain": [
       "array([[0, 0, 0, ..., 0, 0, 0],\n",
       "       [0, 0, 0, ..., 0, 0, 0],\n",
       "       [0, 0, 0, ..., 0, 0, 0],\n",
       "       [0, 0, 0, ..., 0, 0, 0],\n",
       "       [0, 0, 0, ..., 0, 0, 0]], dtype=int64)"
      ]
     },
     "metadata": {},
     "execution_count": 22
    }
   ],
   "metadata": {}
  },
  {
   "cell_type": "code",
   "execution_count": 23,
   "source": [
    "trainX, testX, trainY, testY = train_test_split(feature, data.Label)"
   ],
   "outputs": [],
   "metadata": {}
  },
  {
   "cell_type": "code",
   "execution_count": 24,
   "source": [
    "import time"
   ],
   "outputs": [],
   "metadata": {}
  },
  {
   "cell_type": "code",
   "execution_count": 25,
   "source": [
    "# create lr object\r\n",
    "lr = LogisticRegression()\r\n",
    "train_time = time.time()\r\n",
    "lr.fit(trainX, trainY)\r\n",
    "print(\"--- %s seconds ---\" % (time.time() - train_time))\r\n",
    "\r\n",
    "test_time = time.time()\r\n",
    "Scores_ml = {}\r\n",
    "Scores_ml['Logistic Regression'] = np.round(lr.score(testX,testY),2)\r\n",
    "print(\"--- %s seconds ---\" % (time.time() - test_time))\r\n",
    "\r\n",
    "print('Training Accuracy :',lr.score(trainX,trainY))\r\n",
    "print('Testing Accuracy :',lr.score(testX,testY))\r\n",
    "con_mat = pd.DataFrame(confusion_matrix(lr.predict(testX), testY),\r\n",
    "            columns = ['Predicted:Bad', 'Predicted:Good'],\r\n",
    "            index = ['Actual:Bad', 'Actual:Good'])\r\n",
    "\r\n",
    "\r\n",
    "print('\\nCLASSIFICATION REPORT\\n')\r\n",
    "print(classification_report(lr.predict(testX), testY,\r\n",
    "                            target_names =['Bad','Good']))\r\n",
    "\r\n",
    "print('\\nCONFUSION MATRIX')\r\n",
    "plt.figure(figsize= (6,4))\r\n",
    "sns.heatmap(con_mat, annot = True,fmt='d',cmap=\"YlGnBu\")"
   ],
   "outputs": [
    {
     "output_type": "stream",
     "name": "stdout",
     "text": [
      "--- 1.548854112625122 seconds ---\n",
      "--- 0.024933338165283203 seconds ---\n",
      "Training Accuracy : 0.9823\n",
      "Testing Accuracy : 0.9247\n",
      "\n",
      "CLASSIFICATION REPORT\n",
      "\n",
      "              precision    recall  f1-score   support\n",
      "\n",
      "         Bad       0.90      0.95      0.92      4736\n",
      "        Good       0.95      0.90      0.93      5264\n",
      "\n",
      "    accuracy                           0.92     10000\n",
      "   macro avg       0.92      0.93      0.92     10000\n",
      "weighted avg       0.93      0.92      0.92     10000\n",
      "\n",
      "\n",
      "CONFUSION MATRIX\n"
     ]
    },
    {
     "output_type": "execute_result",
     "data": {
      "text/plain": [
       "<AxesSubplot:>"
      ]
     },
     "metadata": {},
     "execution_count": 25
    },
    {
     "output_type": "display_data",
     "data": {
      "image/png": "[encoded data removed]",
      "text/plain": [
       "<Figure size 432x288 with 2 Axes>"
      ]
     },
     "metadata": {
      "needs_background": "light"
     }
    }
   ],
   "metadata": {}
  },
  {
   "cell_type": "code",
   "execution_count": 26,
   "source": [
    "# create mnb object\r\n",
    "mnb = MultinomialNB()\r\n",
    "train_time = time.time()\r\n",
    "mnb.fit(trainX, trainY)\r\n",
    "print(\"--- %s seconds ---\" % (time.time() - train_time))\r\n",
    "\r\n",
    "test_time = time.time()\r\n",
    "Scores_ml['MultinomialNB'] = np.round(mnb.score(testX,testY),2)\r\n",
    "print(\"--- %s seconds ---\" % (time.time() - test_time))\r\n",
    "\r\n",
    "print('Training Accuracy :',mnb.score(trainX,trainY))\r\n",
    "print('Testing Accuracy :',mnb.score(testX,testY))\r\n",
    "con_mat = pd.DataFrame(confusion_matrix(mnb.predict(testX), testY),\r\n",
    "            columns = ['Predicted:Bad', 'Predicted:Good'],\r\n",
    "            index = ['Actual:Bad', 'Actual:Good'])\r\n",
    "\r\n",
    "\r\n",
    "print('\\nCLASSIFICATION REPORT\\n')\r\n",
    "print(classification_report(mnb.predict(testX), testY,\r\n",
    "                            target_names =['Bad','Good']))\r\n",
    "\r\n",
    "print('\\nCONFUSION MATRIX')\r\n",
    "plt.figure(figsize= (6,4))\r\n",
    "sns.heatmap(con_mat, annot = True,fmt='d',cmap=\"YlGnBu\")"
   ],
   "outputs": [
    {
     "output_type": "stream",
     "name": "stdout",
     "text": [
      "--- 0.1296520233154297 seconds ---\n",
      "--- 0.022936105728149414 seconds ---\n",
      "Training Accuracy : 0.9663\n",
      "Testing Accuracy : 0.9203\n",
      "\n",
      "CLASSIFICATION REPORT\n",
      "\n",
      "              precision    recall  f1-score   support\n",
      "\n",
      "         Bad       0.89      0.95      0.92      4690\n",
      "        Good       0.95      0.90      0.92      5310\n",
      "\n",
      "    accuracy                           0.92     10000\n",
      "   macro avg       0.92      0.92      0.92     10000\n",
      "weighted avg       0.92      0.92      0.92     10000\n",
      "\n",
      "\n",
      "CONFUSION MATRIX\n"
     ]
    },
    {
     "output_type": "execute_result",
     "data": {
      "text/plain": [
       "<AxesSubplot:>"
      ]
     },
     "metadata": {},
     "execution_count": 26
    },
    {
     "output_type": "display_data",
     "data": {
      "image/png": "[encoded data removed]",
      "text/plain": [
       "<Figure size 432x288 with 2 Axes>"
      ]
     },
     "metadata": {
      "needs_background": "light"
     }
    }
   ],
   "metadata": {}
  },
  {
   "cell_type": "code",
   "execution_count": null,
   "source": [],
   "outputs": [],
   "metadata": {}
  }
 ],
 "metadata": {
  "kernelspec": {
   "name": "python3",
   "display_name": "Python 3.9.7 64-bit (conda)"
  },
  "language_info": {
   "codemirror_mode": {
    "name": "ipython",
    "version": 3
   },
   "file_extension": ".py",
   "mimetype": "text/x-python",
   "name": "python",
   "nbconvert_exporter": "python",
   "pygments_lexer": "ipython3",
   "version": "3.9.7"
  },
  "interpreter": {
   "hash": "413fa480ff8626e1d50abc71aae3df56f71c281923137a50a21138333ff5079d"
  }
 },
 "nbformat": 4,
 "nbformat_minor": 4
}